{
 "cells": [
  {
   "cell_type": "code",
   "execution_count": 61,
   "outputs": [],
   "source": [
    "import math\n",
    "import itertools\n",
    "from functools import partial\n",
    "\n",
    "import torch\n",
    "import torch.nn.functional as F\n",
    "\n",
    "from dinov2.eval.depth.models import build_depther\n",
    "import urllib\n",
    "\n",
    "from PIL import Image\n",
    "\n",
    "class CenterPadding(torch.nn.Module):\n",
    "    def __init__(self, multiple):\n",
    "        super().__init__()\n",
    "        self.multiple = multiple\n",
    "\n",
    "    def _get_pad(self, size):\n",
    "        new_size = math.ceil(size / self.multiple) * self.multiple\n",
    "        pad_size = new_size - size\n",
    "        pad_size_left = pad_size // 2\n",
    "        pad_size_right = pad_size - pad_size_left\n",
    "        return pad_size_left, pad_size_right\n",
    "\n",
    "    @torch.inference_mode()\n",
    "    def forward(self, x):\n",
    "        pads = list(itertools.chain.from_iterable(self._get_pad(m) for m in x.shape[:1:-1]))\n",
    "        output = F.pad(x, pads)\n",
    "        return output\n",
    "\n",
    "\n",
    "def create_depther(cfg, backbone_model, backbone_size, head_type):\n",
    "    train_cfg = cfg.get(\"train_cfg\")\n",
    "    test_cfg = cfg.get(\"test_cfg\")\n",
    "    depther = build_depther(cfg.model, train_cfg=train_cfg, test_cfg=test_cfg)\n",
    "\n",
    "    depther.backbone.forward = partial(\n",
    "        backbone_model.get_intermediate_layers,\n",
    "        n=cfg.model.backbone.out_indices,\n",
    "        reshape=True,\n",
    "        return_class_token=cfg.model.backbone.output_cls_token,\n",
    "        norm=cfg.model.backbone.final_norm,\n",
    "    )\n",
    "\n",
    "    if hasattr(backbone_model, \"patch_size\"):\n",
    "        depther.backbone.register_forward_pre_hook(lambda _, x: CenterPadding(backbone_model.patch_size)(x[0]))\n",
    "\n",
    "    return depther"
   ],
   "metadata": {
    "collapsed": false
   }
  },
  {
   "cell_type": "code",
   "execution_count": 62,
   "outputs": [
    {
     "name": "stderr",
     "output_type": "stream",
     "text": [
      "Using cache found in /Users/ideoghyeon/.cache/torch/hub/facebookresearch_dinov2_main\n"
     ]
    },
    {
     "data": {
      "text/plain": "DinoVisionTransformer(\n  (patch_embed): PatchEmbed(\n    (proj): Conv2d(3, 384, kernel_size=(14, 14), stride=(14, 14))\n    (norm): Identity()\n  )\n  (blocks): ModuleList(\n    (0-11): 12 x NestedTensorBlock(\n      (norm1): LayerNorm((384,), eps=1e-06, elementwise_affine=True)\n      (attn): MemEffAttention(\n        (qkv): Linear(in_features=384, out_features=1152, bias=True)\n        (attn_drop): Dropout(p=0.0, inplace=False)\n        (proj): Linear(in_features=384, out_features=384, bias=True)\n        (proj_drop): Dropout(p=0.0, inplace=False)\n      )\n      (ls1): LayerScale()\n      (drop_path1): Identity()\n      (norm2): LayerNorm((384,), eps=1e-06, elementwise_affine=True)\n      (mlp): Mlp(\n        (fc1): Linear(in_features=384, out_features=1536, bias=True)\n        (act): GELU(approximate='none')\n        (fc2): Linear(in_features=1536, out_features=384, bias=True)\n        (drop): Dropout(p=0.0, inplace=False)\n      )\n      (ls2): LayerScale()\n      (drop_path2): Identity()\n    )\n  )\n  (norm): LayerNorm((384,), eps=1e-06, elementwise_affine=True)\n  (head): Identity()\n)"
     },
     "execution_count": 62,
     "metadata": {},
     "output_type": "execute_result"
    }
   ],
   "source": [
    "BACKBONE_SIZE = \"small\" # in (\"small\", \"base\", \"large\" or \"giant\")\n",
    "\n",
    "\n",
    "backbone_archs = {\n",
    "    \"small\": \"vits14\",\n",
    "    \"base\": \"vitb14\",\n",
    "    \"large\": \"vitl14\",\n",
    "    \"giant\": \"vitg14\",\n",
    "}\n",
    "backbone_arch = backbone_archs[BACKBONE_SIZE]\n",
    "backbone_name = f\"dinov2_{backbone_arch}\"\n",
    "\n",
    "backbone_model = torch.hub.load(repo_or_dir=\"facebookresearch/dinov2\", model=backbone_name)\n",
    "backbone_model.to(\"cpu\")\n",
    "backbone_model.eval()\n",
    "# backbone_model.cuda()"
   ],
   "metadata": {
    "collapsed": false
   }
  },
  {
   "cell_type": "code",
   "execution_count": 63,
   "outputs": [
    {
     "name": "stdout",
     "output_type": "stream",
     "text": [
      "load checkpoint from http path: https://dl.fbaipublicfiles.com/dinov2/dinov2_vits14/dinov2_vits14_kitti_linear4_head.pth\n"
     ]
    },
    {
     "data": {
      "text/plain": "DepthEncoderDecoder(\n  (backbone): DinoVisionTransformer()\n  (decode_head): BNHead(\n    align_corners=False\n    (loss_decode): ModuleList(\n      (0): SigLoss()\n      (1): GradientLoss()\n    )\n    (softmax): Softmax(dim=1)\n    (conv_depth): Conv2d(3072, 256, kernel_size=(1, 1), stride=(1, 1))\n    (relu): ReLU()\n    (sigmoid): Sigmoid()\n  )\n)"
     },
     "execution_count": 63,
     "metadata": {},
     "output_type": "execute_result"
    }
   ],
   "source": [
    "import urllib\n",
    "\n",
    "import mmcv\n",
    "from mmcv.runner import load_checkpoint\n",
    "\n",
    "\n",
    "def load_config_from_url(url: str) -> str:\n",
    "    with urllib.request.urlopen(url) as f:\n",
    "        return f.read().decode()\n",
    "\n",
    "\n",
    "HEAD_DATASET = \"kitti\" # in (\"nyu\", \"kitti\")\n",
    "HEAD_TYPE = \"linear4\" # in (\"linear\", \"linear4\", \"dpt\")\n",
    "\n",
    "# kitti + dpt = very slow\n",
    "# kitti + linear = fast\n",
    "# kitti + linear4 = similar to linear\n",
    "\n",
    "\n",
    "DINOV2_BASE_URL = \"https://dl.fbaipublicfiles.com/dinov2\"\n",
    "head_config_url = f\"{DINOV2_BASE_URL}/{backbone_name}/{backbone_name}_{HEAD_DATASET}_{HEAD_TYPE}_config.py\"\n",
    "head_checkpoint_url = f\"{DINOV2_BASE_URL}/{backbone_name}/{backbone_name}_{HEAD_DATASET}_{HEAD_TYPE}_head.pth\"\n",
    "\n",
    "cfg_str = load_config_from_url(head_config_url)\n",
    "cfg = mmcv.Config.fromstring(cfg_str, file_format=\".py\")\n",
    "\n",
    "model = create_depther(\n",
    "    cfg,\n",
    "    backbone_model=backbone_model,\n",
    "    backbone_size=BACKBONE_SIZE,\n",
    "    head_type=HEAD_TYPE,\n",
    ")\n",
    "\n",
    "load_checkpoint(model, head_checkpoint_url, map_location=\"cpu\")\n",
    "model.eval()\n",
    "# model.cuda()"
   ],
   "metadata": {
    "collapsed": false
   }
  },
  {
   "cell_type": "markdown",
   "source": [
    "## Building Pipeline for transform"
   ],
   "metadata": {
    "collapsed": false
   }
  },
  {
   "cell_type": "code",
   "execution_count": 64,
   "outputs": [],
   "source": [
    "import matplotlib\n",
    "from torchvision import transforms\n",
    "\n",
    "\n",
    "def make_depth_transform() -> transforms.Compose:\n",
    "    return transforms.Compose([\n",
    "        transforms.ToTensor(),\n",
    "        lambda x: 255.0 * x[:3], # Discard alpha component and scale by 255\n",
    "        transforms.Normalize(\n",
    "            mean=(123.675, 116.28, 103.53),\n",
    "            std=(58.395, 57.12, 57.375),\n",
    "        ),\n",
    "    ])\n",
    "\n",
    "\n",
    "def render_depth(values, colormap_name=\"magma_r\") -> Image:\n",
    "    min_value, max_value = values.min(), values.max()\n",
    "    normalized_values = (values - min_value) / (max_value - min_value)\n",
    "\n",
    "    colormap = matplotlib.colormaps[colormap_name]\n",
    "    colors = colormap(normalized_values, bytes=True) # ((1)xhxwx4)\n",
    "    colors = colors[:, :, :3] # Discard alpha component\n",
    "    return Image.fromarray(colors)\n",
    "\n"
   ],
   "metadata": {
    "collapsed": false
   }
  },
  {
   "cell_type": "markdown",
   "source": [
    "## Drone Enviornment Setup\n"
   ],
   "metadata": {
    "collapsed": false
   }
  },
  {
   "cell_type": "code",
   "execution_count": 65,
   "metadata": {
    "collapsed": true
   },
   "outputs": [],
   "source": [
    "import numpy as np\n",
    "import matplotlib.pyplot as plt\n",
    "import torch\n",
    "import torch.nn as nn\n",
    "import torch.optim as optim\n",
    "from torch.distributions import Normal\n",
    "from mlagents_envs.environment import UnityEnvironment\n",
    "from mlagents_envs.base_env import ActionTuple\n",
    "from collections import deque\n",
    "from replaybuffer import ReplayBuffers\n",
    "import torch.nn.functional as F"
   ]
  },
  {
   "cell_type": "code",
   "execution_count": 66,
   "outputs": [],
   "source": [
    "env = UnityEnvironment(file_name= None, base_port=5004)\n"
   ],
   "metadata": {
    "collapsed": false
   }
  },
  {
   "cell_type": "code",
   "execution_count": 67,
   "outputs": [],
   "source": [
    "env.reset()\n",
    "behavior_names = list(env.behavior_specs.keys())\n",
    "behavior_name = behavior_names[0]\n",
    "decision_steps, terminal_steps = env.get_steps(behavior_name)"
   ],
   "metadata": {
    "collapsed": false
   }
  },
  {
   "cell_type": "markdown",
   "source": [
    "## Get the length of the space size"
   ],
   "metadata": {
    "collapsed": false
   }
  },
  {
   "cell_type": "code",
   "execution_count": 68,
   "outputs": [],
   "source": [
    "# initial states\n",
    "N_STATES = len(decision_steps.obs[0][0]) + len(decision_steps.obs[1][0])\n",
    "IMAGE_HEIGHT = 84 # no use in code just here to check the sizes\n",
    "IMAGE_WIDTH = 84"
   ],
   "metadata": {
    "collapsed": false
   }
  },
  {
   "cell_type": "code",
   "execution_count": 69,
   "outputs": [
    {
     "data": {
      "text/plain": "array([-30.26,   3.42,  -0.67,   0.  ,   0.  ,   0.  ,   0.  ,   0.  ,\n         0.  ,   0.  ,   0.  ,   0.  , -30.26,   3.42,  -0.67],\n      dtype=float32)"
     },
     "execution_count": 69,
     "metadata": {},
     "output_type": "execute_result"
    }
   ],
   "source": [
    "decision_steps.obs[1][0] # Agent's position (x,y,z) + Target's position (x,y,z)"
   ],
   "metadata": {
    "collapsed": false
   }
  },
  {
   "cell_type": "code",
   "execution_count": 70,
   "outputs": [
    {
     "data": {
      "text/plain": "array([[[0.27450982, 0.2627451 , 0.30588236],\n        [0.49411765, 0.6       , 0.74509805],\n        [0.49411765, 0.6       , 0.74509805],\n        ...,\n        [0.5058824 , 0.6156863 , 0.7647059 ],\n        [0.50980395, 0.61960787, 0.7647059 ],\n        [0.50980395, 0.61960787, 0.7647059 ]],\n\n       [[0.27450982, 0.2627451 , 0.30588236],\n        [0.49803922, 0.6039216 , 0.7490196 ],\n        [0.49803922, 0.6039216 , 0.7490196 ],\n        ...,\n        [0.50980395, 0.62352943, 0.76862746],\n        [0.5137255 , 0.62352943, 0.76862746],\n        [0.5137255 , 0.62352943, 0.77254903]],\n\n       [[0.27450982, 0.2627451 , 0.30588236],\n        [0.5019608 , 0.60784316, 0.7529412 ],\n        [0.5019608 , 0.60784316, 0.7529412 ],\n        ...,\n        [0.5137255 , 0.627451  , 0.77254903],\n        [0.5137255 , 0.627451  , 0.7764706 ],\n        [0.5176471 , 0.627451  , 0.7764706 ]],\n\n       ...,\n\n       [[0.4392157 , 0.60784316, 0.24705882],\n        [0.4509804 , 0.62352943, 0.2509804 ],\n        [0.44705883, 0.6156863 , 0.2509804 ],\n        ...,\n        [0.6313726 , 0.81960785, 0.32941177],\n        [0.67058825, 0.8745098 , 0.3372549 ],\n        [0.6745098 , 0.8745098 , 0.33333334]],\n\n       [[0.40784314, 0.5803922 , 0.24313726],\n        [0.39607844, 0.53333336, 0.2509804 ],\n        [0.39607844, 0.5294118 , 0.24705882],\n        ...,\n        [0.5764706 , 0.74509805, 0.32156864],\n        [0.6156863 , 0.7882353 , 0.34117648],\n        [0.6117647 , 0.78431374, 0.33333334]],\n\n       [[0.40392157, 0.57254905, 0.23137255],\n        [0.37254903, 0.5019608 , 0.23529412],\n        [0.36862746, 0.5019608 , 0.23529412],\n        ...,\n        [0.5568628 , 0.72156864, 0.3137255 ],\n        [0.5803922 , 0.74509805, 0.32156864],\n        [0.5764706 , 0.7372549 , 0.31764707]]], dtype=float32)"
     },
     "execution_count": 70,
     "metadata": {},
     "output_type": "execute_result"
    }
   ],
   "source": [
    "np_camera_image = decision_steps.obs[0][0] # Agent's Camera view\n",
    "np_camera_image"
   ],
   "metadata": {
    "collapsed": false
   }
  },
  {
   "cell_type": "code",
   "execution_count": 71,
   "outputs": [
    {
     "data": {
      "text/plain": "<PIL.Image.Image image mode=RGB size=84x84>",
      "image/png": "[encoded data removed]"
     },
     "metadata": {},
     "output_type": "display_data"
    },
    {
     "name": "stdout",
     "output_type": "stream",
     "text": [
      "tensor([[46.4520, 46.4520, 46.4520,  ..., 40.4250, 40.4250, 40.4250],\n",
      "        [46.4520, 46.4520, 46.4520,  ..., 40.4250, 40.4250, 40.4250],\n",
      "        [46.4520, 46.4520, 46.4520,  ..., 40.4250, 40.4250, 40.4250],\n",
      "        ...,\n",
      "        [19.9871, 19.9871, 19.9871,  ..., 20.1432, 20.1432, 20.1432],\n",
      "        [19.9871, 19.9871, 19.9871,  ..., 20.1432, 20.1432, 20.1432],\n",
      "        [19.9871, 19.9871, 19.9871,  ..., 20.1432, 20.1432, 20.1432]])\n"
     ]
    }
   ],
   "source": [
    "image_tensor = np_camera_image\n",
    "transform = make_depth_transform() # Apply the transformation pipeline\n",
    "\n",
    "transformed_image = transform(image_tensor)\n",
    "# batch = transformed_image.unsqueeze(0).cuda() # Make a batch of one image\n",
    "batch = transformed_image.unsqueeze(0) # Make a batch of one image\n",
    "\n",
    "with torch.inference_mode():\n",
    "    result = model.whole_inference(batch, img_meta=None, rescale=True)\n",
    "\n",
    "# Question why is result 3d??\n",
    "treated_image_2d = result.squeeze().cpu()\n",
    "depth_image = render_depth(result.squeeze().cpu())\n",
    "display(depth_image)\n",
    "print(result.squeeze().cpu())\n",
    "# treated_image = treated_image_2d.flatten()"
   ],
   "metadata": {
    "collapsed": false
   }
  },
  {
   "cell_type": "code",
   "execution_count": 77,
   "outputs": [],
   "source": [
    "action_state = decision_steps.obs[1][0]"
   ],
   "metadata": {
    "collapsed": false
   }
  },
  {
   "cell_type": "code",
   "execution_count": 84,
   "outputs": [
    {
     "name": "stdout",
     "output_type": "stream",
     "text": [
      "Length of Image  7071\n",
      "[ 46.452003  46.452003  46.452003 ... -30.26       3.42      -0.67    ]\n"
     ]
    }
   ],
   "source": [
    "flattened_image = treated_image_2d.flatten()\n",
    "\n",
    "flattened_image\n",
    "state = np.concatenate((flattened_image,action_state ), 0)\n",
    "print('Length of Image ', len(state))\n",
    "print(state)"
   ],
   "metadata": {
    "collapsed": false
   }
  },
  {
   "cell_type": "code",
   "execution_count": null,
   "outputs": [],
   "source": [
    "x = decision_steps.obs[0][0]  # Agent's Camera view\n",
    "y = decision_steps.obs[1][0]  # Agent's position (x,y,z) + Target's position (x,y,z)\n",
    "state = np.concatenate((x, y), 0)\n",
    "state"
   ],
   "metadata": {
    "collapsed": false
   }
  },
  {
   "cell_type": "code",
   "execution_count": null,
   "outputs": [],
   "source": [
    "y"
   ],
   "metadata": {
    "collapsed": false
   }
  },
  {
   "cell_type": "code",
   "execution_count": null,
   "outputs": [],
   "source": [
    "env.reset()\n",
    "while True:\n",
    "    decision_steps, terminal_steps = env.get_steps(behavior_name)\n",
    "    x = decision_steps.obs[0][0] # Ray Perception 3D\n",
    "    y = decision_steps.obs[1][0] # Agent's camera\n",
    "    print(y)\n",
    "    action = ActionTuple(np.array([0, 0, 1], dtype = np.float32)) # for testing 0,0,1 simultaneuosly\n",
    "    env.set_actions(behavior_name, action)\n",
    "    # move the agent along with the action.\n",
    "    env.step()\n",
    "    action = action._continuous # converting ActionTuple to array\n",
    "    next_decision_steps, next_terminal_steps = env.get_steps(behavior_name)"
   ],
   "metadata": {
    "collapsed": false
   }
  },
  {
   "cell_type": "code",
   "execution_count": 85,
   "outputs": [],
   "source": [
    "env.close()\n",
    "# TODO: OpenCV!!!\n",
    "# Combine the two SAC + DINO2\n",
    "# 256 x 256 looking good"
   ],
   "metadata": {
    "collapsed": false
   }
  },
  {
   "cell_type": "code",
   "execution_count": null,
   "outputs": [],
   "source": [
    "get_states()\n",
    "\n",
    "agent_target_states = [...]\n",
    "np_camera_image = [[...]]\n",
    "\n",
    "treated_image = dinov2(np_camera_image) # 384\n",
    "\n",
    "states_for_training = np.concat(agent_target_states, treated_image)\n",
    "\n",
    "SAC same\n"
   ],
   "metadata": {
    "collapsed": false
   }
  }
 ],
 "metadata": {
  "kernelspec": {
   "display_name": "Python 3",
   "language": "python",
   "name": "python3"
  },
  "language_info": {
   "codemirror_mode": {
    "name": "ipython",
    "version": 2
   },
   "file_extension": ".py",
   "mimetype": "text/x-python",
   "name": "python",
   "nbconvert_exporter": "python",
   "pygments_lexer": "ipython2",
   "version": "2.7.6"
  }
 },
 "nbformat": 4,
 "nbformat_minor": 0
}
